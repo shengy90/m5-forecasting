{
 "cells": [
  {
   "cell_type": "code",
   "execution_count": 1,
   "id": "34496e5c",
   "metadata": {
    "_cell_guid": "b1076dfc-b9ad-4769-8c92-a6c4dae69d19",
    "_uuid": "8f2839f25d086af736a60e9eeb907d3b93b6e0e5",
    "execution": {
     "iopub.execute_input": "2022-04-23T21:17:06.915905Z",
     "iopub.status.busy": "2022-04-23T21:17:06.915100Z",
     "iopub.status.idle": "2022-04-23T21:17:06.932371Z",
     "shell.execute_reply": "2022-04-23T21:17:06.931674Z"
    },
    "papermill": {
     "duration": 0.050108,
     "end_time": "2022-04-23T21:17:06.934928",
     "exception": false,
     "start_time": "2022-04-23T21:17:06.884820",
     "status": "completed"
    },
    "tags": []
   },
   "outputs": [
    {
     "name": "stdout",
     "output_type": "stream",
     "text": [
      "/kaggle/input/m5-forecasting-accuracy/calendar.csv\n",
      "/kaggle/input/m5-forecasting-accuracy/sample_submission.csv\n",
      "/kaggle/input/m5-forecasting-accuracy/sell_prices.csv\n",
      "/kaggle/input/m5-forecasting-accuracy/sales_train_validation.csv\n",
      "/kaggle/input/m5-forecasting-accuracy/sales_train_evaluation.csv\n",
      "/kaggle/input/m5-forecasting-uncertainty/calendar.csv\n",
      "/kaggle/input/m5-forecasting-uncertainty/sample_submission.csv\n",
      "/kaggle/input/m5-forecasting-uncertainty/sell_prices.csv\n",
      "/kaggle/input/m5-forecasting-uncertainty/sales_train_validation.csv\n",
      "/kaggle/input/m5-forecasting-uncertainty/sales_train_evaluation.csv\n"
     ]
    }
   ],
   "source": [
    "import numpy as np \n",
    "import pandas as pd \n",
    "\n",
    "import os\n",
    "for dirname, _, filenames in os.walk('/kaggle/input'):\n",
    "    for filename in filenames:\n",
    "        print(os.path.join(dirname, filename))"
   ]
  },
  {
   "cell_type": "code",
   "execution_count": 2,
   "id": "36dd86f6",
   "metadata": {
    "execution": {
     "iopub.execute_input": "2022-04-23T21:17:06.991944Z",
     "iopub.status.busy": "2022-04-23T21:17:06.991395Z",
     "iopub.status.idle": "2022-04-23T21:17:19.732285Z",
     "shell.execute_reply": "2022-04-23T21:17:19.731556Z"
    },
    "papermill": {
     "duration": 12.772253,
     "end_time": "2022-04-23T21:17:19.734670",
     "exception": false,
     "start_time": "2022-04-23T21:17:06.962417",
     "status": "completed"
    },
    "tags": []
   },
   "outputs": [],
   "source": [
    "df_calendar = pd.read_csv('/kaggle/input/m5-forecasting-accuracy/calendar.csv')\n",
    "df_sell_prices = pd.read_csv('/kaggle/input/m5-forecasting-accuracy/calendar.csv')\n",
    "df_train = pd.read_csv('/kaggle/input/m5-forecasting-accuracy/sales_train_validation.csv')\n",
    "df_test = pd.read_csv('/kaggle/input/m5-forecasting-accuracy/sales_train_evaluation.csv')"
   ]
  },
  {
   "cell_type": "code",
   "execution_count": 3,
   "id": "2d95da79",
   "metadata": {
    "execution": {
     "iopub.execute_input": "2022-04-23T21:17:19.791246Z",
     "iopub.status.busy": "2022-04-23T21:17:19.790922Z",
     "iopub.status.idle": "2022-04-23T21:17:19.796381Z",
     "shell.execute_reply": "2022-04-23T21:17:19.795587Z"
    },
    "papermill": {
     "duration": 0.036889,
     "end_time": "2022-04-23T21:17:19.798603",
     "exception": false,
     "start_time": "2022-04-23T21:17:19.761714",
     "status": "completed"
    },
    "tags": []
   },
   "outputs": [],
   "source": [
    "from abc import ABC, abstractmethod\n",
    "\n",
    "class Forecaster(ABC):\n",
    "    \"\"\"\n",
    "    Base predictor class. Must have a model object, a fit function and a predict function\n",
    "    \"\"\"\n",
    "    def __init__(self, model, **kwargs):\n",
    "        self.model = model\n",
    "    @abstractmethod\n",
    "    def fit(self):\n",
    "        pass\n",
    "    @abstractmethod\n",
    "    def predict(self):\n",
    "        pass"
   ]
  },
  {
   "cell_type": "code",
   "execution_count": 4,
   "id": "3e4ae32b",
   "metadata": {
    "execution": {
     "iopub.execute_input": "2022-04-23T21:17:19.853614Z",
     "iopub.status.busy": "2022-04-23T21:17:19.853309Z",
     "iopub.status.idle": "2022-04-23T21:17:19.883995Z",
     "shell.execute_reply": "2022-04-23T21:17:19.883358Z"
    },
    "papermill": {
     "duration": 0.060789,
     "end_time": "2022-04-23T21:17:19.886072",
     "exception": false,
     "start_time": "2022-04-23T21:17:19.825283",
     "status": "completed"
    },
    "tags": []
   },
   "outputs": [
    {
     "data": {
      "text/html": [
       "<div>\n",
       "<style scoped>\n",
       "    .dataframe tbody tr th:only-of-type {\n",
       "        vertical-align: middle;\n",
       "    }\n",
       "\n",
       "    .dataframe tbody tr th {\n",
       "        vertical-align: top;\n",
       "    }\n",
       "\n",
       "    .dataframe thead th {\n",
       "        text-align: right;\n",
       "    }\n",
       "</style>\n",
       "<table border=\"1\" class=\"dataframe\">\n",
       "  <thead>\n",
       "    <tr style=\"text-align: right;\">\n",
       "      <th></th>\n",
       "      <th>id</th>\n",
       "      <th>item_id</th>\n",
       "      <th>dept_id</th>\n",
       "      <th>cat_id</th>\n",
       "      <th>store_id</th>\n",
       "      <th>state_id</th>\n",
       "      <th>d_1</th>\n",
       "      <th>d_2</th>\n",
       "      <th>d_3</th>\n",
       "      <th>d_4</th>\n",
       "      <th>...</th>\n",
       "      <th>d_1904</th>\n",
       "      <th>d_1905</th>\n",
       "      <th>d_1906</th>\n",
       "      <th>d_1907</th>\n",
       "      <th>d_1908</th>\n",
       "      <th>d_1909</th>\n",
       "      <th>d_1910</th>\n",
       "      <th>d_1911</th>\n",
       "      <th>d_1912</th>\n",
       "      <th>d_1913</th>\n",
       "    </tr>\n",
       "  </thead>\n",
       "  <tbody>\n",
       "    <tr>\n",
       "      <th>0</th>\n",
       "      <td>HOBBIES_1_001_CA_1_validation</td>\n",
       "      <td>HOBBIES_1_001</td>\n",
       "      <td>HOBBIES_1</td>\n",
       "      <td>HOBBIES</td>\n",
       "      <td>CA_1</td>\n",
       "      <td>CA</td>\n",
       "      <td>0</td>\n",
       "      <td>0</td>\n",
       "      <td>0</td>\n",
       "      <td>0</td>\n",
       "      <td>...</td>\n",
       "      <td>1</td>\n",
       "      <td>3</td>\n",
       "      <td>0</td>\n",
       "      <td>1</td>\n",
       "      <td>1</td>\n",
       "      <td>1</td>\n",
       "      <td>3</td>\n",
       "      <td>0</td>\n",
       "      <td>1</td>\n",
       "      <td>1</td>\n",
       "    </tr>\n",
       "    <tr>\n",
       "      <th>1</th>\n",
       "      <td>HOBBIES_1_002_CA_1_validation</td>\n",
       "      <td>HOBBIES_1_002</td>\n",
       "      <td>HOBBIES_1</td>\n",
       "      <td>HOBBIES</td>\n",
       "      <td>CA_1</td>\n",
       "      <td>CA</td>\n",
       "      <td>0</td>\n",
       "      <td>0</td>\n",
       "      <td>0</td>\n",
       "      <td>0</td>\n",
       "      <td>...</td>\n",
       "      <td>0</td>\n",
       "      <td>0</td>\n",
       "      <td>0</td>\n",
       "      <td>0</td>\n",
       "      <td>0</td>\n",
       "      <td>1</td>\n",
       "      <td>0</td>\n",
       "      <td>0</td>\n",
       "      <td>0</td>\n",
       "      <td>0</td>\n",
       "    </tr>\n",
       "    <tr>\n",
       "      <th>2</th>\n",
       "      <td>HOBBIES_1_003_CA_1_validation</td>\n",
       "      <td>HOBBIES_1_003</td>\n",
       "      <td>HOBBIES_1</td>\n",
       "      <td>HOBBIES</td>\n",
       "      <td>CA_1</td>\n",
       "      <td>CA</td>\n",
       "      <td>0</td>\n",
       "      <td>0</td>\n",
       "      <td>0</td>\n",
       "      <td>0</td>\n",
       "      <td>...</td>\n",
       "      <td>2</td>\n",
       "      <td>1</td>\n",
       "      <td>2</td>\n",
       "      <td>1</td>\n",
       "      <td>1</td>\n",
       "      <td>1</td>\n",
       "      <td>0</td>\n",
       "      <td>1</td>\n",
       "      <td>1</td>\n",
       "      <td>1</td>\n",
       "    </tr>\n",
       "    <tr>\n",
       "      <th>3</th>\n",
       "      <td>HOBBIES_1_004_CA_1_validation</td>\n",
       "      <td>HOBBIES_1_004</td>\n",
       "      <td>HOBBIES_1</td>\n",
       "      <td>HOBBIES</td>\n",
       "      <td>CA_1</td>\n",
       "      <td>CA</td>\n",
       "      <td>0</td>\n",
       "      <td>0</td>\n",
       "      <td>0</td>\n",
       "      <td>0</td>\n",
       "      <td>...</td>\n",
       "      <td>1</td>\n",
       "      <td>0</td>\n",
       "      <td>5</td>\n",
       "      <td>4</td>\n",
       "      <td>1</td>\n",
       "      <td>0</td>\n",
       "      <td>1</td>\n",
       "      <td>3</td>\n",
       "      <td>7</td>\n",
       "      <td>2</td>\n",
       "    </tr>\n",
       "    <tr>\n",
       "      <th>4</th>\n",
       "      <td>HOBBIES_1_005_CA_1_validation</td>\n",
       "      <td>HOBBIES_1_005</td>\n",
       "      <td>HOBBIES_1</td>\n",
       "      <td>HOBBIES</td>\n",
       "      <td>CA_1</td>\n",
       "      <td>CA</td>\n",
       "      <td>0</td>\n",
       "      <td>0</td>\n",
       "      <td>0</td>\n",
       "      <td>0</td>\n",
       "      <td>...</td>\n",
       "      <td>2</td>\n",
       "      <td>1</td>\n",
       "      <td>1</td>\n",
       "      <td>0</td>\n",
       "      <td>1</td>\n",
       "      <td>1</td>\n",
       "      <td>2</td>\n",
       "      <td>2</td>\n",
       "      <td>2</td>\n",
       "      <td>4</td>\n",
       "    </tr>\n",
       "  </tbody>\n",
       "</table>\n",
       "<p>5 rows × 1919 columns</p>\n",
       "</div>"
      ],
      "text/plain": [
       "                              id        item_id    dept_id   cat_id store_id  \\\n",
       "0  HOBBIES_1_001_CA_1_validation  HOBBIES_1_001  HOBBIES_1  HOBBIES     CA_1   \n",
       "1  HOBBIES_1_002_CA_1_validation  HOBBIES_1_002  HOBBIES_1  HOBBIES     CA_1   \n",
       "2  HOBBIES_1_003_CA_1_validation  HOBBIES_1_003  HOBBIES_1  HOBBIES     CA_1   \n",
       "3  HOBBIES_1_004_CA_1_validation  HOBBIES_1_004  HOBBIES_1  HOBBIES     CA_1   \n",
       "4  HOBBIES_1_005_CA_1_validation  HOBBIES_1_005  HOBBIES_1  HOBBIES     CA_1   \n",
       "\n",
       "  state_id  d_1  d_2  d_3  d_4  ...  d_1904  d_1905  d_1906  d_1907  d_1908  \\\n",
       "0       CA    0    0    0    0  ...       1       3       0       1       1   \n",
       "1       CA    0    0    0    0  ...       0       0       0       0       0   \n",
       "2       CA    0    0    0    0  ...       2       1       2       1       1   \n",
       "3       CA    0    0    0    0  ...       1       0       5       4       1   \n",
       "4       CA    0    0    0    0  ...       2       1       1       0       1   \n",
       "\n",
       "   d_1909  d_1910  d_1911  d_1912  d_1913  \n",
       "0       1       3       0       1       1  \n",
       "1       1       0       0       0       0  \n",
       "2       1       0       1       1       1  \n",
       "3       0       1       3       7       2  \n",
       "4       1       2       2       2       4  \n",
       "\n",
       "[5 rows x 1919 columns]"
      ]
     },
     "execution_count": 4,
     "metadata": {},
     "output_type": "execute_result"
    }
   ],
   "source": [
    "df_train.head()"
   ]
  },
  {
   "cell_type": "code",
   "execution_count": 5,
   "id": "339b4c2e",
   "metadata": {
    "execution": {
     "iopub.execute_input": "2022-04-23T21:17:19.941630Z",
     "iopub.status.busy": "2022-04-23T21:17:19.940879Z",
     "iopub.status.idle": "2022-04-23T21:17:19.956486Z",
     "shell.execute_reply": "2022-04-23T21:17:19.955626Z"
    },
    "papermill": {
     "duration": 0.045974,
     "end_time": "2022-04-23T21:17:19.958957",
     "exception": false,
     "start_time": "2022-04-23T21:17:19.912983",
     "status": "completed"
    },
    "tags": []
   },
   "outputs": [
    {
     "data": {
      "text/html": [
       "<div>\n",
       "<style scoped>\n",
       "    .dataframe tbody tr th:only-of-type {\n",
       "        vertical-align: middle;\n",
       "    }\n",
       "\n",
       "    .dataframe tbody tr th {\n",
       "        vertical-align: top;\n",
       "    }\n",
       "\n",
       "    .dataframe thead th {\n",
       "        text-align: right;\n",
       "    }\n",
       "</style>\n",
       "<table border=\"1\" class=\"dataframe\">\n",
       "  <thead>\n",
       "    <tr style=\"text-align: right;\">\n",
       "      <th></th>\n",
       "      <th>date</th>\n",
       "      <th>wm_yr_wk</th>\n",
       "      <th>weekday</th>\n",
       "      <th>wday</th>\n",
       "      <th>month</th>\n",
       "      <th>year</th>\n",
       "      <th>d</th>\n",
       "      <th>event_name_1</th>\n",
       "      <th>event_type_1</th>\n",
       "      <th>event_name_2</th>\n",
       "      <th>event_type_2</th>\n",
       "      <th>snap_CA</th>\n",
       "      <th>snap_TX</th>\n",
       "      <th>snap_WI</th>\n",
       "    </tr>\n",
       "  </thead>\n",
       "  <tbody>\n",
       "    <tr>\n",
       "      <th>0</th>\n",
       "      <td>2011-01-29</td>\n",
       "      <td>11101</td>\n",
       "      <td>Saturday</td>\n",
       "      <td>1</td>\n",
       "      <td>1</td>\n",
       "      <td>2011</td>\n",
       "      <td>d_1</td>\n",
       "      <td>NaN</td>\n",
       "      <td>NaN</td>\n",
       "      <td>NaN</td>\n",
       "      <td>NaN</td>\n",
       "      <td>0</td>\n",
       "      <td>0</td>\n",
       "      <td>0</td>\n",
       "    </tr>\n",
       "    <tr>\n",
       "      <th>1</th>\n",
       "      <td>2011-01-30</td>\n",
       "      <td>11101</td>\n",
       "      <td>Sunday</td>\n",
       "      <td>2</td>\n",
       "      <td>1</td>\n",
       "      <td>2011</td>\n",
       "      <td>d_2</td>\n",
       "      <td>NaN</td>\n",
       "      <td>NaN</td>\n",
       "      <td>NaN</td>\n",
       "      <td>NaN</td>\n",
       "      <td>0</td>\n",
       "      <td>0</td>\n",
       "      <td>0</td>\n",
       "    </tr>\n",
       "    <tr>\n",
       "      <th>2</th>\n",
       "      <td>2011-01-31</td>\n",
       "      <td>11101</td>\n",
       "      <td>Monday</td>\n",
       "      <td>3</td>\n",
       "      <td>1</td>\n",
       "      <td>2011</td>\n",
       "      <td>d_3</td>\n",
       "      <td>NaN</td>\n",
       "      <td>NaN</td>\n",
       "      <td>NaN</td>\n",
       "      <td>NaN</td>\n",
       "      <td>0</td>\n",
       "      <td>0</td>\n",
       "      <td>0</td>\n",
       "    </tr>\n",
       "    <tr>\n",
       "      <th>3</th>\n",
       "      <td>2011-02-01</td>\n",
       "      <td>11101</td>\n",
       "      <td>Tuesday</td>\n",
       "      <td>4</td>\n",
       "      <td>2</td>\n",
       "      <td>2011</td>\n",
       "      <td>d_4</td>\n",
       "      <td>NaN</td>\n",
       "      <td>NaN</td>\n",
       "      <td>NaN</td>\n",
       "      <td>NaN</td>\n",
       "      <td>1</td>\n",
       "      <td>1</td>\n",
       "      <td>0</td>\n",
       "    </tr>\n",
       "    <tr>\n",
       "      <th>4</th>\n",
       "      <td>2011-02-02</td>\n",
       "      <td>11101</td>\n",
       "      <td>Wednesday</td>\n",
       "      <td>5</td>\n",
       "      <td>2</td>\n",
       "      <td>2011</td>\n",
       "      <td>d_5</td>\n",
       "      <td>NaN</td>\n",
       "      <td>NaN</td>\n",
       "      <td>NaN</td>\n",
       "      <td>NaN</td>\n",
       "      <td>1</td>\n",
       "      <td>0</td>\n",
       "      <td>1</td>\n",
       "    </tr>\n",
       "  </tbody>\n",
       "</table>\n",
       "</div>"
      ],
      "text/plain": [
       "         date  wm_yr_wk    weekday  wday  month  year    d event_name_1  \\\n",
       "0  2011-01-29     11101   Saturday     1      1  2011  d_1          NaN   \n",
       "1  2011-01-30     11101     Sunday     2      1  2011  d_2          NaN   \n",
       "2  2011-01-31     11101     Monday     3      1  2011  d_3          NaN   \n",
       "3  2011-02-01     11101    Tuesday     4      2  2011  d_4          NaN   \n",
       "4  2011-02-02     11101  Wednesday     5      2  2011  d_5          NaN   \n",
       "\n",
       "  event_type_1 event_name_2 event_type_2  snap_CA  snap_TX  snap_WI  \n",
       "0          NaN          NaN          NaN        0        0        0  \n",
       "1          NaN          NaN          NaN        0        0        0  \n",
       "2          NaN          NaN          NaN        0        0        0  \n",
       "3          NaN          NaN          NaN        1        1        0  \n",
       "4          NaN          NaN          NaN        1        0        1  "
      ]
     },
     "execution_count": 5,
     "metadata": {},
     "output_type": "execute_result"
    }
   ],
   "source": [
    "df_calendar.head()"
   ]
  },
  {
   "cell_type": "code",
   "execution_count": 6,
   "id": "ea57e74c",
   "metadata": {
    "execution": {
     "iopub.execute_input": "2022-04-23T21:17:20.016610Z",
     "iopub.status.busy": "2022-04-23T21:17:20.016153Z",
     "iopub.status.idle": "2022-04-23T21:17:20.020513Z",
     "shell.execute_reply": "2022-04-23T21:17:20.019740Z"
    },
    "papermill": {
     "duration": 0.034972,
     "end_time": "2022-04-23T21:17:20.022381",
     "exception": false,
     "start_time": "2022-04-23T21:17:19.987409",
     "status": "completed"
    },
    "tags": []
   },
   "outputs": [],
   "source": [
    "testx = [1,2,3,4,5]"
   ]
  },
  {
   "cell_type": "markdown",
   "id": "99657aec",
   "metadata": {
    "papermill": {
     "duration": 0.027323,
     "end_time": "2022-04-23T21:17:20.080797",
     "exception": false,
     "start_time": "2022-04-23T21:17:20.053474",
     "status": "completed"
    },
    "tags": []
   },
   "source": [
    "# Baseline Models"
   ]
  },
  {
   "cell_type": "markdown",
   "id": "74d4ef95",
   "metadata": {
    "papermill": {
     "duration": 0.02716,
     "end_time": "2022-04-23T21:17:20.135279",
     "exception": false,
     "start_time": "2022-04-23T21:17:20.108119",
     "status": "completed"
    },
    "tags": []
   },
   "source": [
    "### Naive\n",
    "\n",
    "$\\hat{Y}_{n+i} = Y_{n}, i = 1,2,...,h$"
   ]
  },
  {
   "cell_type": "code",
   "execution_count": 7,
   "id": "62bcf5c4",
   "metadata": {
    "execution": {
     "iopub.execute_input": "2022-04-23T21:17:20.192079Z",
     "iopub.status.busy": "2022-04-23T21:17:20.191552Z",
     "iopub.status.idle": "2022-04-23T21:17:20.199010Z",
     "shell.execute_reply": "2022-04-23T21:17:20.198382Z"
    },
    "papermill": {
     "duration": 0.038298,
     "end_time": "2022-04-23T21:17:20.201001",
     "exception": false,
     "start_time": "2022-04-23T21:17:20.162703",
     "status": "completed"
    },
    "tags": []
   },
   "outputs": [],
   "source": [
    "def naive_model_fn(inputs: list, horizon:int=28, forecast_type:str=None):\n",
    "    value = inputs[-7:] if forecast_type == \"seasonal\" else inputs[-1:]\n",
    "    forecast = value * horizon\n",
    "    forecast = forecast[-horizon:]\n",
    "    assert len(forecast) == horizon\n",
    "    return forecast\n",
    "\n",
    "class NaiveForecaster(Forecaster):\n",
    "    def __init__(self):\n",
    "        super().__init__(naive_model_fn)\n",
    "    def fit(self, inputs, horizon, forecast_type):\n",
    "        return self.model\n",
    "    def predict(self, inputs, horizon, forecast_type):\n",
    "        return self.model(inputs, horizon, forecast_type)"
   ]
  },
  {
   "cell_type": "code",
   "execution_count": 8,
   "id": "cf61ad4b",
   "metadata": {
    "execution": {
     "iopub.execute_input": "2022-04-23T21:17:20.258260Z",
     "iopub.status.busy": "2022-04-23T21:17:20.257475Z",
     "iopub.status.idle": "2022-04-23T21:17:20.264137Z",
     "shell.execute_reply": "2022-04-23T21:17:20.263217Z"
    },
    "papermill": {
     "duration": 0.039042,
     "end_time": "2022-04-23T21:17:20.267400",
     "exception": false,
     "start_time": "2022-04-23T21:17:20.228358",
     "status": "completed"
    },
    "tags": []
   },
   "outputs": [
    {
     "name": "stdout",
     "output_type": "stream",
     "text": [
      "[5, 5, 5, 5, 5, 5, 5, 5, 5, 5, 5, 5, 5, 5, 5, 5, 5, 5, 5, 5, 5, 5, 5, 5, 5, 5, 5, 5]\n",
      "[3, 4, 5, 1, 2, 3, 4, 5, 1, 2, 3, 4, 5, 1, 2, 3, 4, 5, 1, 2, 3, 4, 5, 1, 2, 3, 4, 5]\n"
     ]
    }
   ],
   "source": [
    "naive_forecaster = NaiveForecaster()\n",
    "pred_naive = naive_forecaster.predict(testx, 28, None)\n",
    "pred_s_naive = naive_forecaster.predict(testx, 28, \"seasonal\")\n",
    "\n",
    "print(pred_naive)\n",
    "print(pred_s_naive)"
   ]
  },
  {
   "cell_type": "markdown",
   "id": "82edd057",
   "metadata": {
    "papermill": {
     "duration": 0.027717,
     "end_time": "2022-04-23T21:17:20.324468",
     "exception": false,
     "start_time": "2022-04-23T21:17:20.296751",
     "status": "completed"
    },
    "tags": []
   },
   "source": [
    "### Simple Exponential Smoothing\n",
    "\n",
    "$\\hat{Y}_{t+1} = \\alpha Y_{t} + (1-\\alpha)\\hat{Y}_{t}$ where alpha is in the range [0.1,0.3]"
   ]
  },
  {
   "cell_type": "code",
   "execution_count": 9,
   "id": "537ac2e4",
   "metadata": {
    "execution": {
     "iopub.execute_input": "2022-04-23T21:17:20.382083Z",
     "iopub.status.busy": "2022-04-23T21:17:20.381551Z",
     "iopub.status.idle": "2022-04-23T21:17:21.443815Z",
     "shell.execute_reply": "2022-04-23T21:17:21.442567Z"
    },
    "papermill": {
     "duration": 1.094293,
     "end_time": "2022-04-23T21:17:21.446681",
     "exception": false,
     "start_time": "2022-04-23T21:17:20.352388",
     "status": "completed"
    },
    "tags": []
   },
   "outputs": [],
   "source": [
    "from statsmodels.tsa.holtwinters import SimpleExpSmoothing\n",
    "\n",
    "def ses_fn(x: list, alpha:float, horizon=int):\n",
    "    def _update_forecast(prev_actual, prev_forecast, alpha):\n",
    "        return alpha * prev_actual + (1-alpha) * prev_forecast\n",
    "    for idx, val in enumerate(x):\n",
    "        if idx == 0:\n",
    "            forecast = val\n",
    "            prev_actual = val\n",
    "        else:\n",
    "            forecast = _update_forecast(prev_actual, forecast, alpha)\n",
    "            prev_actual = val\n",
    "    forecast = _update_forecast(prev_actual, forecast, alpha)\n",
    "    return [forecast] * horizon\n",
    "\n",
    "class SimpleExponentialForecaster(Forecaster):\n",
    "    def __init__(self):\n",
    "        super().__init__(ses_fn)\n",
    "    def fit(self, alpha, optimized):\n",
    "        return self.model\n",
    "    def predict(self, x, alpha, horizon):\n",
    "        return self.model(x, alpha, horizon)"
   ]
  },
  {
   "cell_type": "code",
   "execution_count": 10,
   "id": "ee9f9025",
   "metadata": {
    "execution": {
     "iopub.execute_input": "2022-04-23T21:17:21.506044Z",
     "iopub.status.busy": "2022-04-23T21:17:21.505465Z",
     "iopub.status.idle": "2022-04-23T21:17:21.512164Z",
     "shell.execute_reply": "2022-04-23T21:17:21.510750Z"
    },
    "papermill": {
     "duration": 0.039315,
     "end_time": "2022-04-23T21:17:21.514557",
     "exception": false,
     "start_time": "2022-04-23T21:17:21.475242",
     "status": "completed"
    },
    "tags": []
   },
   "outputs": [
    {
     "name": "stdout",
     "output_type": "stream",
     "text": [
      "[1, 2, 3, 4, 5]\n",
      "[1.9049, 1.9049, 1.9049, 1.9049, 1.9049, 1.9049, 1.9049, 1.9049, 1.9049, 1.9049, 1.9049, 1.9049, 1.9049, 1.9049, 1.9049, 1.9049, 1.9049, 1.9049, 1.9049, 1.9049, 1.9049, 1.9049, 1.9049, 1.9049, 1.9049, 1.9049, 1.9049, 1.9049]\n"
     ]
    }
   ],
   "source": [
    "print(testx)\n",
    "ses_forecaster = SimpleExponentialForecaster()\n",
    "pred_ses = ses_forecaster.predict(testx, alpha=0.1, horizon=28)\n",
    "print(pred_ses)"
   ]
  },
  {
   "cell_type": "markdown",
   "id": "0e33a10b",
   "metadata": {
    "papermill": {
     "duration": 0.028564,
     "end_time": "2022-04-23T21:17:21.571827",
     "exception": false,
     "start_time": "2022-04-23T21:17:21.543263",
     "status": "completed"
    },
    "tags": []
   },
   "source": [
    "### Moving Averages\n",
    "\n",
    "$\\hat{Y}_t = \\frac{\\sum^{k}_{i=1} Y_{t-i}}{k}$ where K is selected from the range [2,5]"
   ]
  },
  {
   "cell_type": "code",
   "execution_count": 11,
   "id": "9bd996da",
   "metadata": {
    "execution": {
     "iopub.execute_input": "2022-04-23T21:17:21.631674Z",
     "iopub.status.busy": "2022-04-23T21:17:21.631136Z",
     "iopub.status.idle": "2022-04-23T21:17:21.637963Z",
     "shell.execute_reply": "2022-04-23T21:17:21.637200Z"
    },
    "papermill": {
     "duration": 0.039095,
     "end_time": "2022-04-23T21:17:21.639988",
     "exception": false,
     "start_time": "2022-04-23T21:17:21.600893",
     "status": "completed"
    },
    "tags": []
   },
   "outputs": [],
   "source": [
    "def moving_averages_fn(x: list, k:int, horizon:int=28):\n",
    "    forecast = np.mean(x[-k:])\n",
    "    return [forecast] * horizon\n",
    "\n",
    "class MovingAverageForecaster(Forecaster):\n",
    "    def __init__(self):\n",
    "        super().__init__(moving_averages_fn)\n",
    "    def fit(self):\n",
    "        return self.model\n",
    "    def predict(self, inputs, k):\n",
    "        return self.model(inputs, k)"
   ]
  },
  {
   "cell_type": "code",
   "execution_count": 12,
   "id": "bc7a8791",
   "metadata": {
    "execution": {
     "iopub.execute_input": "2022-04-23T21:17:21.699189Z",
     "iopub.status.busy": "2022-04-23T21:17:21.698875Z",
     "iopub.status.idle": "2022-04-23T21:17:21.705023Z",
     "shell.execute_reply": "2022-04-23T21:17:21.704197Z"
    },
    "papermill": {
     "duration": 0.038461,
     "end_time": "2022-04-23T21:17:21.707232",
     "exception": false,
     "start_time": "2022-04-23T21:17:21.668771",
     "status": "completed"
    },
    "tags": []
   },
   "outputs": [
    {
     "name": "stdout",
     "output_type": "stream",
     "text": [
      "[1, 2, 3, 4, 5]\n",
      "[4.5, 4.5, 4.5, 4.5, 4.5, 4.5, 4.5, 4.5, 4.5, 4.5, 4.5, 4.5, 4.5, 4.5, 4.5, 4.5, 4.5, 4.5, 4.5, 4.5, 4.5, 4.5, 4.5, 4.5, 4.5, 4.5, 4.5, 4.5]\n"
     ]
    }
   ],
   "source": [
    "print(testx)\n",
    "movavg_forecaster = MovingAverageForecaster()\n",
    "pred_movavg = movavg_forecaster.predict(testx, k=2)\n",
    "print(pred_movavg)"
   ]
  },
  {
   "cell_type": "markdown",
   "id": "45740daf",
   "metadata": {
    "papermill": {
     "duration": 0.029723,
     "end_time": "2022-04-23T21:17:21.766495",
     "exception": false,
     "start_time": "2022-04-23T21:17:21.736772",
     "status": "completed"
    },
    "tags": []
   },
   "source": [
    "### Croston's Method (CRO)\n",
    "$\\hat{Y}_t = \\frac{\\hat{z}_t}{\\hat{p}_t}$\n",
    "\n",
    "Where:\n",
    "- $\\hat{z}_t$ represents the non-zero demand size\n",
    "- $\\hat{p}_t$ represents the inter-demand intervals\n",
    "- $\\hat{z}_t$ and $\\hat{p}_t$ are predicted using simple exponential smoothing and smoothing parameters of both components are set to 0.1 and the first observation of the components are used for initialisations."
   ]
  },
  {
   "cell_type": "code",
   "execution_count": 13,
   "id": "f1226348",
   "metadata": {
    "execution": {
     "iopub.execute_input": "2022-04-23T21:17:21.826600Z",
     "iopub.status.busy": "2022-04-23T21:17:21.826321Z",
     "iopub.status.idle": "2022-04-23T21:17:21.833052Z",
     "shell.execute_reply": "2022-04-23T21:17:21.832218Z"
    },
    "papermill": {
     "duration": 0.039368,
     "end_time": "2022-04-23T21:17:21.835041",
     "exception": false,
     "start_time": "2022-04-23T21:17:21.795673",
     "status": "completed"
    },
    "tags": []
   },
   "outputs": [
    {
     "data": {
      "text/plain": [
       "1"
      ]
     },
     "execution_count": 13,
     "metadata": {},
     "output_type": "execute_result"
    }
   ],
   "source": [
    "np.argmax(np.array([0,1,0,0,2,3,4,0,0,0,5])>0)"
   ]
  },
  {
   "cell_type": "code",
   "execution_count": 14,
   "id": "c0b621f3",
   "metadata": {
    "execution": {
     "iopub.execute_input": "2022-04-23T21:17:21.897629Z",
     "iopub.status.busy": "2022-04-23T21:17:21.896743Z",
     "iopub.status.idle": "2022-04-23T21:17:21.906760Z",
     "shell.execute_reply": "2022-04-23T21:17:21.905926Z"
    },
    "papermill": {
     "duration": 0.044003,
     "end_time": "2022-04-23T21:17:21.909427",
     "exception": false,
     "start_time": "2022-04-23T21:17:21.865424",
     "status": "completed"
    },
    "tags": []
   },
   "outputs": [],
   "source": [
    "def croston_fn(x, horizon, alpha, debiaser):\n",
    "    d = np.array(x)\n",
    "    \n",
    "    # Initialise\n",
    "    first_non_zero = np.argmax(d>0)\n",
    "    a = d[first_non_zero]\n",
    "    p = 1 + first_non_zero\n",
    "    q = 1\n",
    "    f = a / p\n",
    "    \n",
    "    for idx, val in enumerate(x):\n",
    "        if val > 0:\n",
    "            a = alpha*val + (1-alpha)*a\n",
    "            p = alpha*q + (1-alpha)*p\n",
    "            f = debiaser * a/p\n",
    "        else:\n",
    "            a = a\n",
    "            p = p\n",
    "            f = f\n",
    "            q += 1\n",
    "    return [f] * horizon\n",
    "\n",
    "\n",
    "class CrostonForecaster(Forecaster):\n",
    "    def __init__(self, alpha=0.1, debiaser=1):\n",
    "        self.debiaser=debiaser\n",
    "        self.alpha = alpha\n",
    "        super().__init__(croston_fn)\n",
    "    def fit(self):\n",
    "        return self.model\n",
    "    def predict(self, inputs, horizon):\n",
    "        return self.model(inputs, horizon, self.alpha, self.debiaser)"
   ]
  },
  {
   "cell_type": "code",
   "execution_count": 15,
   "id": "cfe1f964",
   "metadata": {
    "execution": {
     "iopub.execute_input": "2022-04-23T21:17:21.969830Z",
     "iopub.status.busy": "2022-04-23T21:17:21.969268Z",
     "iopub.status.idle": "2022-04-23T21:17:21.975192Z",
     "shell.execute_reply": "2022-04-23T21:17:21.974089Z"
    },
    "papermill": {
     "duration": 0.038419,
     "end_time": "2022-04-23T21:17:21.977183",
     "exception": false,
     "start_time": "2022-04-23T21:17:21.938764",
     "status": "completed"
    },
    "tags": []
   },
   "outputs": [
    {
     "name": "stdout",
     "output_type": "stream",
     "text": [
      "[1.9049, 1.9049, 1.9049, 1.9049, 1.9049, 1.9049, 1.9049, 1.9049, 1.9049, 1.9049, 1.9049, 1.9049, 1.9049, 1.9049, 1.9049, 1.9049, 1.9049, 1.9049, 1.9049, 1.9049, 1.9049, 1.9049, 1.9049, 1.9049, 1.9049, 1.9049, 1.9049, 1.9049]\n"
     ]
    }
   ],
   "source": [
    "croston_forecaster = CrostonForecaster()\n",
    "pred_croston = croston_forecaster.predict(testx, horizon=28)\n",
    "print(pred_croston)"
   ]
  },
  {
   "cell_type": "code",
   "execution_count": 16,
   "id": "8ea0cd30",
   "metadata": {
    "execution": {
     "iopub.execute_input": "2022-04-23T21:17:22.039357Z",
     "iopub.status.busy": "2022-04-23T21:17:22.038889Z",
     "iopub.status.idle": "2022-04-23T21:17:22.044903Z",
     "shell.execute_reply": "2022-04-23T21:17:22.043694Z"
    },
    "papermill": {
     "duration": 0.040384,
     "end_time": "2022-04-23T21:17:22.047611",
     "exception": false,
     "start_time": "2022-04-23T21:17:22.007227",
     "status": "completed"
    },
    "tags": []
   },
   "outputs": [
    {
     "name": "stdout",
     "output_type": "stream",
     "text": [
      "[1.809655, 1.809655, 1.809655, 1.809655, 1.809655, 1.809655, 1.809655, 1.809655, 1.809655, 1.809655, 1.809655, 1.809655, 1.809655, 1.809655, 1.809655, 1.809655, 1.809655, 1.809655, 1.809655, 1.809655, 1.809655, 1.809655, 1.809655, 1.809655, 1.809655, 1.809655, 1.809655, 1.809655]\n"
     ]
    }
   ],
   "source": [
    "croston_sba_forecaster = CrostonForecaster(debiaser=0.95)\n",
    "pred_croston_sba = croston_sba_forecaster.predict(testx, horizon=28)\n",
    "print(pred_croston_sba)"
   ]
  },
  {
   "cell_type": "markdown",
   "id": "073994d8",
   "metadata": {
    "papermill": {
     "duration": 0.029281,
     "end_time": "2022-04-23T21:17:22.107393",
     "exception": false,
     "start_time": "2022-04-23T21:17:22.078112",
     "status": "completed"
    },
    "tags": []
   },
   "source": [
    "### Croston TSB"
   ]
  },
  {
   "cell_type": "code",
   "execution_count": 17,
   "id": "2799ee12",
   "metadata": {
    "execution": {
     "iopub.execute_input": "2022-04-23T21:17:22.168423Z",
     "iopub.status.busy": "2022-04-23T21:17:22.167932Z",
     "iopub.status.idle": "2022-04-23T21:17:22.177042Z",
     "shell.execute_reply": "2022-04-23T21:17:22.176414Z"
    },
    "papermill": {
     "duration": 0.042847,
     "end_time": "2022-04-23T21:17:22.179741",
     "exception": false,
     "start_time": "2022-04-23T21:17:22.136894",
     "status": "completed"
    },
    "tags": []
   },
   "outputs": [],
   "source": [
    "def tsb_fn(x, horizon, alpha, beta):\n",
    "    d = np.array(x)\n",
    "    \n",
    "    # Initialise\n",
    "    first_non_zero = np.argmax(d>0)\n",
    "    a = d[first_non_zero]\n",
    "    p = 1/(1+first_non_zero)\n",
    "    f = a * p\n",
    "    \n",
    "    for idx, val in enumerate(x):\n",
    "        if val > 0:\n",
    "            a = alpha*val + (1-alpha)*a\n",
    "            p = beta*1 + (1-beta)*p\n",
    "        else:\n",
    "            a = a\n",
    "            p = (1-beta)*p\n",
    "        f = a * p\n",
    "    return [f] * horizon\n",
    "\n",
    "\n",
    "class CrostonTSBForecaster(Forecaster):\n",
    "    def __init__(self, alpha=0.1, beta=0.1):\n",
    "        self.alpha = alpha\n",
    "        self.beta = beta\n",
    "        super().__init__(tsb_fn)\n",
    "    def fit(self):\n",
    "        return self.model\n",
    "    def predict(self, inputs, horizon):\n",
    "        return self.model(inputs, horizon, self.alpha, self.beta)"
   ]
  },
  {
   "cell_type": "code",
   "execution_count": 18,
   "id": "5ac2bbfe",
   "metadata": {
    "execution": {
     "iopub.execute_input": "2022-04-23T21:17:22.245251Z",
     "iopub.status.busy": "2022-04-23T21:17:22.244768Z",
     "iopub.status.idle": "2022-04-23T21:17:22.250185Z",
     "shell.execute_reply": "2022-04-23T21:17:22.249364Z"
    },
    "papermill": {
     "duration": 0.042152,
     "end_time": "2022-04-23T21:17:22.254105",
     "exception": false,
     "start_time": "2022-04-23T21:17:22.211953",
     "status": "completed"
    },
    "tags": []
   },
   "outputs": [
    {
     "name": "stdout",
     "output_type": "stream",
     "text": [
      "[1.0803716772794725, 1.0803716772794725, 1.0803716772794725, 1.0803716772794725, 1.0803716772794725, 1.0803716772794725, 1.0803716772794725, 1.0803716772794725, 1.0803716772794725, 1.0803716772794725, 1.0803716772794725, 1.0803716772794725, 1.0803716772794725, 1.0803716772794725, 1.0803716772794725, 1.0803716772794725, 1.0803716772794725, 1.0803716772794725, 1.0803716772794725, 1.0803716772794725, 1.0803716772794725, 1.0803716772794725, 1.0803716772794725, 1.0803716772794725, 1.0803716772794725, 1.0803716772794725, 1.0803716772794725, 1.0803716772794725]\n"
     ]
    }
   ],
   "source": [
    "crostontsb_forecaster = CrostonTSBForecaster(alpha=0.4, beta=0.375)\n",
    "pred_crostontsb = crostontsb_forecaster.predict([0,0,0,1,2,0,0,3], horizon=28)\n",
    "print(pred_crostontsb)"
   ]
  },
  {
   "cell_type": "markdown",
   "id": "b938ac32",
   "metadata": {
    "papermill": {
     "duration": 0.031311,
     "end_time": "2022-04-23T21:17:22.319149",
     "exception": false,
     "start_time": "2022-04-23T21:17:22.287838",
     "status": "completed"
    },
    "tags": []
   },
   "source": [
    "# Generating Benchmark Forecasts"
   ]
  },
  {
   "cell_type": "code",
   "execution_count": 19,
   "id": "bcab7b2f",
   "metadata": {
    "execution": {
     "iopub.execute_input": "2022-04-23T21:17:22.383230Z",
     "iopub.status.busy": "2022-04-23T21:17:22.382731Z",
     "iopub.status.idle": "2022-04-23T21:20:42.016550Z",
     "shell.execute_reply": "2022-04-23T21:20:42.015307Z"
    },
    "papermill": {
     "duration": 199.670714,
     "end_time": "2022-04-23T21:20:42.021411",
     "exception": false,
     "start_time": "2022-04-23T21:17:22.350697",
     "status": "completed"
    },
    "tags": []
   },
   "outputs": [],
   "source": [
    "HORIZON = 28\n",
    "TIME_COLS = [f'd_{i+1}' for i in range(1909)]\n",
    "PRED_COLS = [f'd_{i+1910}' for i in range(HORIZON)]\n",
    "\n",
    "df_naive = df_train.copy()\n",
    "df_naive[PRED_COLS] = np.nan\n",
    "\n",
    "for i in range(len(df_naive)):\n",
    "    inputs = df_naive.loc[0, TIME_COLS].tolist()\n",
    "    naive_forecaster = NaiveForecaster()\n",
    "    pred_naive = naive_forecaster.predict(inputs, 28, None)\n",
    "    df_naive[PRED_COLS] = pred_naive"
   ]
  },
  {
   "cell_type": "code",
   "execution_count": 20,
   "id": "083c257d",
   "metadata": {
    "execution": {
     "iopub.execute_input": "2022-04-23T21:20:42.087513Z",
     "iopub.status.busy": "2022-04-23T21:20:42.086729Z",
     "iopub.status.idle": "2022-04-23T21:20:42.108959Z",
     "shell.execute_reply": "2022-04-23T21:20:42.108233Z"
    },
    "papermill": {
     "duration": 0.056814,
     "end_time": "2022-04-23T21:20:42.111682",
     "exception": false,
     "start_time": "2022-04-23T21:20:42.054868",
     "status": "completed"
    },
    "tags": []
   },
   "outputs": [
    {
     "data": {
      "text/html": [
       "<div>\n",
       "<style scoped>\n",
       "    .dataframe tbody tr th:only-of-type {\n",
       "        vertical-align: middle;\n",
       "    }\n",
       "\n",
       "    .dataframe tbody tr th {\n",
       "        vertical-align: top;\n",
       "    }\n",
       "\n",
       "    .dataframe thead th {\n",
       "        text-align: right;\n",
       "    }\n",
       "</style>\n",
       "<table border=\"1\" class=\"dataframe\">\n",
       "  <thead>\n",
       "    <tr style=\"text-align: right;\">\n",
       "      <th></th>\n",
       "      <th>id</th>\n",
       "      <th>item_id</th>\n",
       "      <th>dept_id</th>\n",
       "      <th>cat_id</th>\n",
       "      <th>store_id</th>\n",
       "      <th>state_id</th>\n",
       "      <th>d_1</th>\n",
       "      <th>d_2</th>\n",
       "      <th>d_3</th>\n",
       "      <th>d_4</th>\n",
       "      <th>...</th>\n",
       "      <th>d_1928</th>\n",
       "      <th>d_1929</th>\n",
       "      <th>d_1930</th>\n",
       "      <th>d_1931</th>\n",
       "      <th>d_1932</th>\n",
       "      <th>d_1933</th>\n",
       "      <th>d_1934</th>\n",
       "      <th>d_1935</th>\n",
       "      <th>d_1936</th>\n",
       "      <th>d_1937</th>\n",
       "    </tr>\n",
       "  </thead>\n",
       "  <tbody>\n",
       "    <tr>\n",
       "      <th>0</th>\n",
       "      <td>HOBBIES_1_001_CA_1_validation</td>\n",
       "      <td>HOBBIES_1_001</td>\n",
       "      <td>HOBBIES_1</td>\n",
       "      <td>HOBBIES</td>\n",
       "      <td>CA_1</td>\n",
       "      <td>CA</td>\n",
       "      <td>0</td>\n",
       "      <td>0</td>\n",
       "      <td>0</td>\n",
       "      <td>0</td>\n",
       "      <td>...</td>\n",
       "      <td>1</td>\n",
       "      <td>1</td>\n",
       "      <td>1</td>\n",
       "      <td>1</td>\n",
       "      <td>1</td>\n",
       "      <td>1</td>\n",
       "      <td>1</td>\n",
       "      <td>1</td>\n",
       "      <td>1</td>\n",
       "      <td>1</td>\n",
       "    </tr>\n",
       "    <tr>\n",
       "      <th>1</th>\n",
       "      <td>HOBBIES_1_002_CA_1_validation</td>\n",
       "      <td>HOBBIES_1_002</td>\n",
       "      <td>HOBBIES_1</td>\n",
       "      <td>HOBBIES</td>\n",
       "      <td>CA_1</td>\n",
       "      <td>CA</td>\n",
       "      <td>0</td>\n",
       "      <td>0</td>\n",
       "      <td>0</td>\n",
       "      <td>0</td>\n",
       "      <td>...</td>\n",
       "      <td>1</td>\n",
       "      <td>1</td>\n",
       "      <td>1</td>\n",
       "      <td>1</td>\n",
       "      <td>1</td>\n",
       "      <td>1</td>\n",
       "      <td>1</td>\n",
       "      <td>1</td>\n",
       "      <td>1</td>\n",
       "      <td>1</td>\n",
       "    </tr>\n",
       "    <tr>\n",
       "      <th>2</th>\n",
       "      <td>HOBBIES_1_003_CA_1_validation</td>\n",
       "      <td>HOBBIES_1_003</td>\n",
       "      <td>HOBBIES_1</td>\n",
       "      <td>HOBBIES</td>\n",
       "      <td>CA_1</td>\n",
       "      <td>CA</td>\n",
       "      <td>0</td>\n",
       "      <td>0</td>\n",
       "      <td>0</td>\n",
       "      <td>0</td>\n",
       "      <td>...</td>\n",
       "      <td>1</td>\n",
       "      <td>1</td>\n",
       "      <td>1</td>\n",
       "      <td>1</td>\n",
       "      <td>1</td>\n",
       "      <td>1</td>\n",
       "      <td>1</td>\n",
       "      <td>1</td>\n",
       "      <td>1</td>\n",
       "      <td>1</td>\n",
       "    </tr>\n",
       "    <tr>\n",
       "      <th>3</th>\n",
       "      <td>HOBBIES_1_004_CA_1_validation</td>\n",
       "      <td>HOBBIES_1_004</td>\n",
       "      <td>HOBBIES_1</td>\n",
       "      <td>HOBBIES</td>\n",
       "      <td>CA_1</td>\n",
       "      <td>CA</td>\n",
       "      <td>0</td>\n",
       "      <td>0</td>\n",
       "      <td>0</td>\n",
       "      <td>0</td>\n",
       "      <td>...</td>\n",
       "      <td>1</td>\n",
       "      <td>1</td>\n",
       "      <td>1</td>\n",
       "      <td>1</td>\n",
       "      <td>1</td>\n",
       "      <td>1</td>\n",
       "      <td>1</td>\n",
       "      <td>1</td>\n",
       "      <td>1</td>\n",
       "      <td>1</td>\n",
       "    </tr>\n",
       "    <tr>\n",
       "      <th>4</th>\n",
       "      <td>HOBBIES_1_005_CA_1_validation</td>\n",
       "      <td>HOBBIES_1_005</td>\n",
       "      <td>HOBBIES_1</td>\n",
       "      <td>HOBBIES</td>\n",
       "      <td>CA_1</td>\n",
       "      <td>CA</td>\n",
       "      <td>0</td>\n",
       "      <td>0</td>\n",
       "      <td>0</td>\n",
       "      <td>0</td>\n",
       "      <td>...</td>\n",
       "      <td>1</td>\n",
       "      <td>1</td>\n",
       "      <td>1</td>\n",
       "      <td>1</td>\n",
       "      <td>1</td>\n",
       "      <td>1</td>\n",
       "      <td>1</td>\n",
       "      <td>1</td>\n",
       "      <td>1</td>\n",
       "      <td>1</td>\n",
       "    </tr>\n",
       "  </tbody>\n",
       "</table>\n",
       "<p>5 rows × 1943 columns</p>\n",
       "</div>"
      ],
      "text/plain": [
       "                              id        item_id    dept_id   cat_id store_id  \\\n",
       "0  HOBBIES_1_001_CA_1_validation  HOBBIES_1_001  HOBBIES_1  HOBBIES     CA_1   \n",
       "1  HOBBIES_1_002_CA_1_validation  HOBBIES_1_002  HOBBIES_1  HOBBIES     CA_1   \n",
       "2  HOBBIES_1_003_CA_1_validation  HOBBIES_1_003  HOBBIES_1  HOBBIES     CA_1   \n",
       "3  HOBBIES_1_004_CA_1_validation  HOBBIES_1_004  HOBBIES_1  HOBBIES     CA_1   \n",
       "4  HOBBIES_1_005_CA_1_validation  HOBBIES_1_005  HOBBIES_1  HOBBIES     CA_1   \n",
       "\n",
       "  state_id  d_1  d_2  d_3  d_4  ...  d_1928  d_1929  d_1930  d_1931  d_1932  \\\n",
       "0       CA    0    0    0    0  ...       1       1       1       1       1   \n",
       "1       CA    0    0    0    0  ...       1       1       1       1       1   \n",
       "2       CA    0    0    0    0  ...       1       1       1       1       1   \n",
       "3       CA    0    0    0    0  ...       1       1       1       1       1   \n",
       "4       CA    0    0    0    0  ...       1       1       1       1       1   \n",
       "\n",
       "   d_1933  d_1934  d_1935  d_1936  d_1937  \n",
       "0       1       1       1       1       1  \n",
       "1       1       1       1       1       1  \n",
       "2       1       1       1       1       1  \n",
       "3       1       1       1       1       1  \n",
       "4       1       1       1       1       1  \n",
       "\n",
       "[5 rows x 1943 columns]"
      ]
     },
     "execution_count": 20,
     "metadata": {},
     "output_type": "execute_result"
    }
   ],
   "source": [
    "df_naive.head()"
   ]
  },
  {
   "cell_type": "code",
   "execution_count": null,
   "id": "ceb2bfa3",
   "metadata": {
    "papermill": {
     "duration": 0.03043,
     "end_time": "2022-04-23T21:20:42.173074",
     "exception": false,
     "start_time": "2022-04-23T21:20:42.142644",
     "status": "completed"
    },
    "tags": []
   },
   "outputs": [],
   "source": []
  }
 ],
 "metadata": {
  "kernelspec": {
   "display_name": "Python 3",
   "language": "python",
   "name": "python3"
  },
  "language_info": {
   "codemirror_mode": {
    "name": "ipython",
    "version": 3
   },
   "file_extension": ".py",
   "mimetype": "text/x-python",
   "name": "python",
   "nbconvert_exporter": "python",
   "pygments_lexer": "ipython3",
   "version": "3.7.12"
  },
  "papermill": {
   "default_parameters": {},
   "duration": 226.104494,
   "end_time": "2022-04-23T21:20:43.026994",
   "environment_variables": {},
   "exception": null,
   "input_path": "__notebook__.ipynb",
   "output_path": "__notebook__.ipynb",
   "parameters": {},
   "start_time": "2022-04-23T21:16:56.922500",
   "version": "2.3.4"
  }
 },
 "nbformat": 4,
 "nbformat_minor": 5
}
